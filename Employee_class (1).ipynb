{
 "cells": [
  {
   "cell_type": "code",
   "execution_count": 137,
   "id": "95124f49",
   "metadata": {},
   "outputs": [],
   "source": [
    "import pandas as pd"
   ]
  },
  {
   "cell_type": "code",
   "execution_count": 138,
   "id": "e6e36ccb",
   "metadata": {},
   "outputs": [],
   "source": [
    "data = pd.read_csv(\"C:\\\\Users\\\\RTGMbappe\\\\Documents\\\\Employees.txt\", sep=\" \", header=None)\n"
   ]
  },
  {
   "cell_type": "code",
   "execution_count": 139,
   "id": "958227f5",
   "metadata": {},
   "outputs": [],
   "source": [
    "data.columns = [\"StaffID\", \"LastName\", \"FirstName\", \"RegHours\", \"HourlyRate\", \"OTMultiple\", \"TaxCredit\", \"StandardBand\"]"
   ]
  },
  {
   "cell_type": "code",
   "execution_count": 140,
   "id": "5424f6e9",
   "metadata": {},
   "outputs": [
    {
     "data": {
      "text/html": [
       "<div>\n",
       "<style scoped>\n",
       "    .dataframe tbody tr th:only-of-type {\n",
       "        vertical-align: middle;\n",
       "    }\n",
       "\n",
       "    .dataframe tbody tr th {\n",
       "        vertical-align: top;\n",
       "    }\n",
       "\n",
       "    .dataframe thead th {\n",
       "        text-align: right;\n",
       "    }\n",
       "</style>\n",
       "<table border=\"1\" class=\"dataframe\">\n",
       "  <thead>\n",
       "    <tr style=\"text-align: right;\">\n",
       "      <th></th>\n",
       "      <th>StaffID</th>\n",
       "      <th>LastName</th>\n",
       "      <th>FirstName</th>\n",
       "      <th>RegHours</th>\n",
       "      <th>HourlyRate</th>\n",
       "      <th>OTMultiple</th>\n",
       "      <th>TaxCredit</th>\n",
       "      <th>StandardBand</th>\n",
       "    </tr>\n",
       "  </thead>\n",
       "  <tbody>\n",
       "    <tr>\n",
       "      <th>0</th>\n",
       "      <td>12345</td>\n",
       "      <td>Green</td>\n",
       "      <td>Joe</td>\n",
       "      <td>37</td>\n",
       "      <td>16</td>\n",
       "      <td>1.5</td>\n",
       "      <td>70</td>\n",
       "      <td>700</td>\n",
       "    </tr>\n",
       "    <tr>\n",
       "      <th>1</th>\n",
       "      <td>78905</td>\n",
       "      <td>Nathan</td>\n",
       "      <td>Drake</td>\n",
       "      <td>45</td>\n",
       "      <td>16</td>\n",
       "      <td>2.0</td>\n",
       "      <td>90</td>\n",
       "      <td>800</td>\n",
       "    </tr>\n",
       "  </tbody>\n",
       "</table>\n",
       "</div>"
      ],
      "text/plain": [
       "   StaffID LastName FirstName  RegHours  HourlyRate  OTMultiple  TaxCredit  \\\n",
       "0    12345    Green       Joe        37          16         1.5         70   \n",
       "1    78905   Nathan     Drake        45          16         2.0         90   \n",
       "\n",
       "   StandardBand  \n",
       "0           700  \n",
       "1           800  "
      ]
     },
     "execution_count": 140,
     "metadata": {},
     "output_type": "execute_result"
    }
   ],
   "source": [
    "data"
   ]
  },
  {
   "cell_type": "code",
   "execution_count": 141,
   "id": "6fb3565d",
   "metadata": {},
   "outputs": [
    {
     "data": {
      "text/plain": [
       "12345"
      ]
     },
     "execution_count": 141,
     "metadata": {},
     "output_type": "execute_result"
    }
   ],
   "source": [
    "data['StaffID'][0]"
   ]
  },
  {
   "cell_type": "code",
   "execution_count": 142,
   "id": "a612df36",
   "metadata": {},
   "outputs": [],
   "source": [
    "hours_data = pd.read_csv(\"C:\\\\Users\\\\RTGMbappe\\\\Documents\\\\hours.txt\", sep=\" \", header=None)"
   ]
  },
  {
   "cell_type": "code",
   "execution_count": 143,
   "id": "56220097",
   "metadata": {},
   "outputs": [],
   "source": [
    "hours_data.columns = [\"StaffID\" ,\"Date\", \"HoursWorked\"]"
   ]
  },
  {
   "cell_type": "markdown",
   "id": "cc74b56a",
   "metadata": {},
   "source": [
    "'Regular Rate':16,'Overtime Rate':24, 'Regular Pay':592,'Overtime Pay':120,'Gross Pay':712, 'Standard Rate Pay':700,'Higher Rate Pay':12, 'Standard Tax':140,'Higher Tax':4.8,'Total Tax':144.8,'Tax Credit':70,'Net Deductions':74.8, 'Net Pay': 637.2}\n"
   ]
  },
  {
   "cell_type": "code",
   "execution_count": 144,
   "id": "a9bc31a5",
   "metadata": {},
   "outputs": [],
   "source": [
    "hours_data.columns = [\"StaffID\" ,\"Date\", \"HoursWorked\"]\n",
    "#p1 = Employees(42 ,'31/10/2021')\n",
    "#p1.myfunc()\n",
    "hours_data.columns = [\"StaffID\" ,\"Date\", \"HoursWorked\"]"
   ]
  },
  {
   "cell_type": "code",
   "execution_count": 145,
   "id": "96de8499",
   "metadata": {},
   "outputs": [
    {
     "data": {
      "text/plain": [
       "0    31/10/2021\n",
       "1     1/11/2021\n",
       "2    12/11/2021\n",
       "Name: Date, dtype: object"
      ]
     },
     "execution_count": 145,
     "metadata": {},
     "output_type": "execute_result"
    }
   ],
   "source": [
    "hours_data[\"Date\"]"
   ]
  },
  {
   "cell_type": "code",
   "execution_count": 152,
   "id": "fe0f4149",
   "metadata": {},
   "outputs": [],
   "source": [
    "class Employees:\n",
    "    def __init__(self, StaffID, LastName, FirstName, RegHours, HourlyRate, OTMultiple, TaxCredit,StandardBand, work_time, work_date):\n",
    "        self.StaffID = StaffID\n",
    "        self.LastName = LastName\n",
    "        self.FirstName = FirstName\n",
    "        self.RegHours = int(RegHours)\n",
    "        self.HourlyRate = int(HourlyRate)\n",
    "        self.OTMultiple = float(OTMultiple)\n",
    "        self.TaxCredit = int(TaxCredit)\n",
    "        self.StandardBand = int(StandardBand)\n",
    "        self.work_time = work_time\n",
    "        self.work_date = work_date\n",
    "        self.emp_dict = {}\n",
    "    def compute_payment(self, hours, date):\n",
    "        if date == self.work_date:\n",
    "            name = self.FirstName + \" \"+ self.LastName\n",
    "            self.emp_dict[\"name\"] = name\n",
    "            self.emp_dict[\"Date\"] = date\n",
    "            self.emp_dict[\"Regular Hours Worked\"] = self.RegHours\n",
    "            ot_hrs = hours - self.RegHours\n",
    "            self.emp_dict[\"Overtime Hours Worked\"] = ot_hrs\n",
    "            self.emp_dict[\"Regular Rate\"] = self.HourlyRate\n",
    "            self.emp_dict[\"Overtime Rate\"] = self.HourlyRate * self.OTMultiple\n",
    "            self.emp_dict[\"Regular Pay\"] = self.HourlyRate * self.RegHours\n",
    "            self.emp_dict[\"Overtime Pay\"] = (self.HourlyRate * self.OTMultiple) * ot_hrs\n",
    "            gross_pay = (self.HourlyRate * self.RegHours) + ((self.HourlyRate * self.OTMultiple) * ot_hrs)\n",
    "            self.emp_dict[\"Gross Pay\"] = gross_pay\n",
    "\n",
    "            self.emp_dict[\"Standard Rate Pay\"] = self.StandardBand\n",
    "            high_pay = ((self.HourlyRate * self.RegHours) + ((self.HourlyRate * self.OTMultiple) * ot_hrs)) - self.StandardBand\n",
    "            self.emp_dict[\"Higher Rate Pay\"] = high_pay\n",
    "            self.emp_dict[\"Standard Tax\"] = self.StandardBand * (20/100)\n",
    "            self.emp_dict[\"Higher Tax\"] = high_pay * (40/100)\n",
    "            total_tax = self.StandardBand * (20/100) + high_pay * (40/100)\n",
    "            self.emp_dict[\"Total Tax\"] = total_tax\n",
    "            self.emp_dict[\"Tax Credit\"] = self.TaxCredit\n",
    "            net_deds = total_tax - self.TaxCredit\n",
    "            self.emp_dict[\"Net Deductions\"] = net_deds\n",
    "            self.emp_dict[\"Net Pay\"] = gross_pay - net_deds\n",
    "            return self.emp_dict\n",
    "        else:\n",
    "            print(\"No date entry\")"
   ]
  },
  {
   "cell_type": "code",
   "execution_count": 153,
   "id": "62383093",
   "metadata": {},
   "outputs": [],
   "source": [
    "jg = Employees(str(data['StaffID'][0]),str(data['LastName'][0]), str(data['FirstName'][0]), str(data['RegHours'][0]), str(data['HourlyRate'][0]),\n",
    "       str(data['OTMultiple'][0]), str(data['TaxCredit'][0]), str(data['StandardBand'][0]), str(hours_data[\"HoursWorked\"][0]), str(hours_data[\"Date\"][0]))"
   ]
  },
  {
   "cell_type": "code",
   "execution_count": 154,
   "id": "1efa9015",
   "metadata": {},
   "outputs": [
    {
     "data": {
      "text/plain": [
       "{'name': 'Joe Green',\n",
       " 'Date': '31/10/2021',\n",
       " 'Regular Hours Worked': 37,\n",
       " 'Overtime Hours Worked': 5,\n",
       " 'Regular Rate': 16,\n",
       " 'Overtime Rate': 24.0,\n",
       " 'Regular Pay': 592,\n",
       " 'Overtime Pay': 120.0,\n",
       " 'Gross Pay': 712.0,\n",
       " 'Standard Rate Pay': 700,\n",
       " 'Higher Rate Pay': 12.0,\n",
       " 'Standard Tax': 140.0,\n",
       " 'Higher Tax': 4.800000000000001,\n",
       " 'Total Tax': 144.8,\n",
       " 'Tax Credit': 70,\n",
       " 'Net Deductions': 74.80000000000001,\n",
       " 'Net Pay': 637.2}"
      ]
     },
     "execution_count": 154,
     "metadata": {},
     "output_type": "execute_result"
    }
   ],
   "source": [
    "jg.compute_payment(42 ,'31/10/2021')"
   ]
  },
  {
   "cell_type": "markdown",
   "id": "607e2b8f",
   "metadata": {},
   "source": [
    "Object 2"
   ]
  },
  {
   "cell_type": "code",
   "execution_count": 155,
   "id": "76f439f2",
   "metadata": {},
   "outputs": [],
   "source": [
    "nd = Employees(str(data['StaffID'][1]),str(data['LastName'][1]), str(data['FirstName'][1]), str(data['RegHours'][1]), str(data['HourlyRate'][1]),\n",
    "       str(data['OTMultiple'][1]), str(data['TaxCredit'][1]), str(data['StandardBand'][1]), str(hours_data[\"HoursWorked\"][1]), str(hours_data[\"Date\"][1]))"
   ]
  },
  {
   "cell_type": "code",
   "execution_count": 156,
   "id": "c49a7e0a",
   "metadata": {},
   "outputs": [
    {
     "data": {
      "text/plain": [
       "{'name': 'Drake Nathan',\n",
       " 'Date': '1/11/2021',\n",
       " 'Regular Hours Worked': 45,\n",
       " 'Overtime Hours Worked': 11,\n",
       " 'Regular Rate': 16,\n",
       " 'Overtime Rate': 32.0,\n",
       " 'Regular Pay': 720,\n",
       " 'Overtime Pay': 352.0,\n",
       " 'Gross Pay': 1072.0,\n",
       " 'Standard Rate Pay': 800,\n",
       " 'Higher Rate Pay': 272.0,\n",
       " 'Standard Tax': 160.0,\n",
       " 'Higher Tax': 108.80000000000001,\n",
       " 'Total Tax': 268.8,\n",
       " 'Tax Credit': 90,\n",
       " 'Net Deductions': 178.8,\n",
       " 'Net Pay': 893.2}"
      ]
     },
     "execution_count": 156,
     "metadata": {},
     "output_type": "execute_result"
    }
   ],
   "source": [
    "nd.compute_payment(56 ,'1/11/2021')"
   ]
  },
  {
   "cell_type": "code",
   "execution_count": 99,
   "id": "f941f72a",
   "metadata": {},
   "outputs": [],
   "source": [
    "import unittest"
   ]
  },
  {
   "cell_type": "code",
   "execution_count": 123,
   "id": "99a93168",
   "metadata": {},
   "outputs": [
    {
     "name": "stderr",
     "output_type": "stream",
     "text": [
      "test_add (__main__.TestNotebook) ... ok\n",
      "testNetLessEqualGross (__main__.TestStringMethods) ... ok\n",
      "\n",
      "----------------------------------------------------------------------\n",
      "Ran 2 tests in 0.003s\n",
      "\n",
      "OK\n"
     ]
    },
    {
     "data": {
      "text/plain": [
       "<unittest.main.TestProgram at 0x1c1fe62e850>"
      ]
     },
     "execution_count": 123,
     "metadata": {},
     "output_type": "execute_result"
    }
   ],
   "source": [
    "import unittest\n",
    "\n",
    "class TestNotebook(unittest.TestCase):\n",
    "    \n",
    "    def test_add(self):\n",
    "        def testNetLessEqualGross(self):\n",
    "          jg = Employees(str(data['StaffID'][0]),str(data['LastName'][0]), str(data['FirstName'][0]), str(data['RegHours'][0]), str(data['HourlyRate'][0]),\n",
    "           str(data['OTMultiple'][0]), str(data['TaxCredit'][0]), str(data['StandardBand'][0]), str(hours_data[\"HoursWorked\"][0]), str(hours_data[\"Date\"][0]))\n",
    "          pi= jg.compute_payment(42,'31/10/2021')\n",
    "          self.assertLessEqual(pi['Net Pay'],pi['Gross Pay'])\n",
    "          self.\n",
    "\n",
    "unittest.main(argv=[''], verbosity=2, exit=False)"
   ]
  },
  {
   "cell_type": "code",
   "execution_count": null,
   "id": "30a62c3d",
   "metadata": {},
   "outputs": [],
   "source": []
  }
 ],
 "metadata": {
  "kernelspec": {
   "display_name": "Python 3",
   "language": "python",
   "name": "python3"
  },
  "language_info": {
   "codemirror_mode": {
    "name": "ipython",
    "version": 3
   },
   "file_extension": ".py",
   "mimetype": "text/x-python",
   "name": "python",
   "nbconvert_exporter": "python",
   "pygments_lexer": "ipython3",
   "version": "3.8.8"
  }
 },
 "nbformat": 4,
 "nbformat_minor": 5
}
