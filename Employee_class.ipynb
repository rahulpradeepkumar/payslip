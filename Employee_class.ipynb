{
 "cells": [
  {
   "cell_type": "code",
   "execution_count": 5,
   "id": "c9516fb8",
   "metadata": {},
   "outputs": [],
   "source": [
    "import pandas as pd"
   ]
  },
  {
   "cell_type": "code",
   "execution_count": 14,
   "id": "6fbf1e38",
   "metadata": {},
   "outputs": [],
   "source": [
    "data = pd.read_csv(\"C:\\\\Users\\\\RTGMbappe\\\\Documents\\\\Employees.txt\", sep=\" \", header=None)\n"
   ]
  },
  {
   "cell_type": "code",
   "execution_count": 15,
   "id": "a642eed4",
   "metadata": {},
   "outputs": [],
   "source": [
    "data.columns = [\"StaffID\", \"LastName\", \"FirstName\", \"RegHours\", \"HourlyRate\", \"OTMultiple\", \"TaxCredit\", \"StandardBand\"]"
   ]
  },
  {
   "cell_type": "code",
   "execution_count": 16,
   "id": "dd8c5b88",
   "metadata": {},
   "outputs": [
    {
     "data": {
      "text/html": [
       "<div>\n",
       "<style scoped>\n",
       "    .dataframe tbody tr th:only-of-type {\n",
       "        vertical-align: middle;\n",
       "    }\n",
       "\n",
       "    .dataframe tbody tr th {\n",
       "        vertical-align: top;\n",
       "    }\n",
       "\n",
       "    .dataframe thead th {\n",
       "        text-align: right;\n",
       "    }\n",
       "</style>\n",
       "<table border=\"1\" class=\"dataframe\">\n",
       "  <thead>\n",
       "    <tr style=\"text-align: right;\">\n",
       "      <th></th>\n",
       "      <th>StaffID</th>\n",
       "      <th>LastName</th>\n",
       "      <th>FirstName</th>\n",
       "      <th>RegHours</th>\n",
       "      <th>HourlyRate</th>\n",
       "      <th>OTMultiple</th>\n",
       "      <th>TaxCredit</th>\n",
       "      <th>StandardBand</th>\n",
       "    </tr>\n",
       "  </thead>\n",
       "  <tbody>\n",
       "    <tr>\n",
       "      <th>0</th>\n",
       "      <td>12345</td>\n",
       "      <td>Green</td>\n",
       "      <td>Joe</td>\n",
       "      <td>37</td>\n",
       "      <td>16</td>\n",
       "      <td>1.5</td>\n",
       "      <td>70</td>\n",
       "      <td>700</td>\n",
       "    </tr>\n",
       "  </tbody>\n",
       "</table>\n",
       "</div>"
      ],
      "text/plain": [
       "   StaffID LastName FirstName  RegHours  HourlyRate  OTMultiple  TaxCredit  \\\n",
       "0    12345    Green       Joe        37          16         1.5         70   \n",
       "\n",
       "   StandardBand  \n",
       "0           700  "
      ]
     },
     "execution_count": 16,
     "metadata": {},
     "output_type": "execute_result"
    }
   ],
   "source": [
    "data"
   ]
  },
  {
   "cell_type": "code",
   "execution_count": 21,
   "id": "e3d12154",
   "metadata": {},
   "outputs": [
    {
     "data": {
      "text/plain": [
       "12345"
      ]
     },
     "execution_count": 21,
     "metadata": {},
     "output_type": "execute_result"
    }
   ],
   "source": [
    "data['StaffID'][0]"
   ]
  },
  {
   "cell_type": "code",
   "execution_count": 19,
   "id": "c4a833e8",
   "metadata": {},
   "outputs": [],
   "source": [
    "hours_data = pd.read_csv(\"C:\\\\Users\\\\RTGMbappe\\\\Documents\\\\hours.txt\", sep=\" \", header=None)"
   ]
  },
  {
   "cell_type": "code",
   "execution_count": null,
   "id": "3e0261ef",
   "metadata": {},
   "outputs": [],
   "source": [
    "hours_data.columns = []"
   ]
  },
  {
   "cell_type": "code",
   "execution_count": 24,
   "id": "3a24ca0d",
   "metadata": {},
   "outputs": [
    {
     "name": "stdout",
     "output_type": "stream",
     "text": [
      "Hello my hors are is 42\n"
     ]
    }
   ],
   "source": [
    "class Employees:\n",
    "        # Class Variable\n",
    "               \n",
    "       \n",
    "    # The init method or constructor\n",
    "        def __init__(self, hours, date):\n",
    "\n",
    "            # Instance Variable    \n",
    "            self.hours = hours\n",
    "            self.date = date\n",
    "        def myfunc(self):\n",
    "            print(\"Hello my hours are is \" + str(self.hours))\n",
    "            \n",
    "p1 = Employees(42 ,'31/10/2021')\n",
    "p1.myfunc()"
   ]
  },
  {
   "cell_type": "code",
   "execution_count": null,
   "id": "e276bbfb",
   "metadata": {},
   "outputs": [],
   "source": []
  }
 ],
 "metadata": {
  "kernelspec": {
   "display_name": "Python 3",
   "language": "python",
   "name": "python3"
  },
  "language_info": {
   "codemirror_mode": {
    "name": "ipython",
    "version": 3
   },
   "file_extension": ".py",
   "mimetype": "text/x-python",
   "name": "python",
   "nbconvert_exporter": "python",
   "pygments_lexer": "ipython3",
   "version": "3.8.8"
  }
 },
 "nbformat": 4,
 "nbformat_minor": 5
}
